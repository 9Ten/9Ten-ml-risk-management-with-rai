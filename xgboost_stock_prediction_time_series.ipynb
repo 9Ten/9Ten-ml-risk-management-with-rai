{
  "cells": [
    {
      "cell_type": "markdown",
      "metadata": {
        "id": "view-in-github",
        "colab_type": "text"
      },
      "source": [
        "<a href=\"https://colab.research.google.com/github/9Ten/9Ten-ml-risk-management-with-rai/blob/main/xgboost_stock_prediction_time_series.ipynb\" target=\"_parent\"><img src=\"https://colab.research.google.com/assets/colab-badge.svg\" alt=\"Open In Colab\"/></a>"
      ]
    },
    {
      "cell_type": "code",
      "execution_count": null,
      "metadata": {
        "colab": {
          "base_uri": "https://localhost:8080/"
        },
        "id": "r4jWxMVk7eUt",
        "outputId": "906805e4-5ca6-45a8-f654-bc3a1925e118"
      },
      "outputs": [
        {
          "name": "stdout",
          "output_type": "stream",
          "text": [
            "Requirement already satisfied: yfinance in /usr/local/lib/python3.10/dist-packages (0.2.33)\n",
            "Collecting responsibleai\n",
            "  Downloading responsibleai-0.33.0-py3-none-any.whl (157 kB)\n",
            "\u001b[2K     \u001b[90m━━━━━━━━━━━━━━━━━━━━━━━━━━━━━━━━━━━━━━━━\u001b[0m \u001b[32m157.9/157.9 kB\u001b[0m \u001b[31m2.5 MB/s\u001b[0m eta \u001b[36m0:00:00\u001b[0m\n",
            "\u001b[?25hCollecting raiwidgets\n",
            "  Downloading raiwidgets-0.33.0-py3-none-any.whl (2.6 MB)\n",
            "\u001b[2K     \u001b[90m━━━━━━━━━━━━━━━━━━━━━━━━━━━━━━━━━━━━━━━━\u001b[0m \u001b[32m2.6/2.6 MB\u001b[0m \u001b[31m18.3 MB/s\u001b[0m eta \u001b[36m0:00:00\u001b[0m\n",
            "\u001b[?25hRequirement already satisfied: pandas>=1.3.0 in /usr/local/lib/python3.10/dist-packages (from yfinance) (1.5.3)\n",
            "Requirement already satisfied: numpy>=1.16.5 in /usr/local/lib/python3.10/dist-packages (from yfinance) (1.23.5)\n",
            "Requirement already satisfied: requests>=2.31 in /usr/local/lib/python3.10/dist-packages (from yfinance) (2.31.0)\n",
            "Requirement already satisfied: multitasking>=0.0.7 in /usr/local/lib/python3.10/dist-packages (from yfinance) (0.0.11)\n",
            "Requirement already satisfied: lxml>=4.9.1 in /usr/local/lib/python3.10/dist-packages (from yfinance) (4.9.4)\n",
            "Requirement already satisfied: appdirs>=1.4.4 in /usr/local/lib/python3.10/dist-packages (from yfinance) (1.4.4)\n",
            "Requirement already satisfied: pytz>=2022.5 in /usr/local/lib/python3.10/dist-packages (from yfinance) (2023.3.post1)\n",
            "Requirement already satisfied: frozendict>=2.3.4 in /usr/local/lib/python3.10/dist-packages (from yfinance) (2.4.0)\n",
            "Requirement already satisfied: peewee>=3.16.2 in /usr/local/lib/python3.10/dist-packages (from yfinance) (3.17.0)\n",
            "Requirement already satisfied: beautifulsoup4>=4.11.1 in /usr/local/lib/python3.10/dist-packages (from yfinance) (4.11.2)\n",
            "Requirement already satisfied: html5lib>=1.1 in /usr/local/lib/python3.10/dist-packages (from yfinance) (1.1)\n",
            "Collecting dice-ml<0.12,>=0.11 (from responsibleai)\n",
            "  Downloading dice_ml-0.11-py3-none-any.whl (2.5 MB)\n",
            "\u001b[2K     \u001b[90m━━━━━━━━━━━━━━━━━━━━━━━━━━━━━━━━━━━━━━━━\u001b[0m \u001b[32m2.5/2.5 MB\u001b[0m \u001b[31m5.1 MB/s\u001b[0m eta \u001b[36m0:00:00\u001b[0m\n",
            "\u001b[?25hCollecting econml>=0.14.1 (from responsibleai)\n",
            "  Downloading econml-0.14.1-cp310-cp310-manylinux_2_17_x86_64.manylinux2014_x86_64.whl (3.5 MB)\n",
            "\u001b[2K     \u001b[90m━━━━━━━━━━━━━━━━━━━━━━━━━━━━━━━━━━━━━━━━\u001b[0m \u001b[32m3.5/3.5 MB\u001b[0m \u001b[31m52.5 MB/s\u001b[0m eta \u001b[36m0:00:00\u001b[0m\n",
            "\u001b[?25hCollecting statsmodels<0.14.0 (from responsibleai)\n",
            "  Downloading statsmodels-0.13.5-cp310-cp310-manylinux_2_17_x86_64.manylinux2014_x86_64.whl (9.9 MB)\n",
            "\u001b[2K     \u001b[90m━━━━━━━━━━━━━━━━━━━━━━━━━━━━━━━━━━━━━━━━\u001b[0m \u001b[32m9.9/9.9 MB\u001b[0m \u001b[31m59.9 MB/s\u001b[0m eta \u001b[36m0:00:00\u001b[0m\n",
            "\u001b[?25hRequirement already satisfied: jsonschema in /usr/local/lib/python3.10/dist-packages (from responsibleai) (4.19.2)\n",
            "Collecting erroranalysis>=0.5.3 (from responsibleai)\n",
            "  Downloading erroranalysis-0.5.3-py3-none-any.whl (41 kB)\n",
            "\u001b[2K     \u001b[90m━━━━━━━━━━━━━━━━━━━━━━━━━━━━━━━━━━━━━━━━\u001b[0m \u001b[32m41.4/41.4 kB\u001b[0m \u001b[31m3.0 MB/s\u001b[0m eta \u001b[36m0:00:00\u001b[0m\n",
            "\u001b[?25hCollecting interpret-community>=0.30.0 (from responsibleai)\n",
            "  Downloading interpret_community-0.31.0-py3-none-any.whl (130 kB)\n",
            "\u001b[2K     \u001b[90m━━━━━━━━━━━━━━━━━━━━━━━━━━━━━━━━━━━━━━━━\u001b[0m \u001b[32m130.7/130.7 kB\u001b[0m \u001b[31m7.6 MB/s\u001b[0m eta \u001b[36m0:00:00\u001b[0m\n",
            "\u001b[?25hRequirement already satisfied: lightgbm>=2.0.11 in /usr/local/lib/python3.10/dist-packages (from responsibleai) (4.1.0)\n",
            "Requirement already satisfied: numba<=0.58.1 in /usr/local/lib/python3.10/dist-packages (from responsibleai) (0.58.1)\n",
            "Requirement already satisfied: scikit-learn!=1.1,>=0.22.1 in /usr/local/lib/python3.10/dist-packages (from responsibleai) (1.2.2)\n",
            "Requirement already satisfied: scipy>=1.4.1 in /usr/local/lib/python3.10/dist-packages (from responsibleai) (1.11.4)\n",
            "Collecting semver~=2.13.0 (from responsibleai)\n",
            "  Downloading semver-2.13.0-py2.py3-none-any.whl (12 kB)\n",
            "Collecting ml-wrappers (from responsibleai)\n",
            "  Downloading ml_wrappers-0.5.4-py3-none-any.whl (51 kB)\n",
            "\u001b[2K     \u001b[90m━━━━━━━━━━━━━━━━━━━━━━━━━━━━━━━━━━━━━━━━\u001b[0m \u001b[32m51.3/51.3 kB\u001b[0m \u001b[31m5.1 MB/s\u001b[0m eta \u001b[36m0:00:00\u001b[0m\n",
            "\u001b[?25hCollecting networkx<=2.5 (from responsibleai)\n",
            "  Downloading networkx-2.5-py3-none-any.whl (1.6 MB)\n",
            "\u001b[2K     \u001b[90m━━━━━━━━━━━━━━━━━━━━━━━━━━━━━━━━━━━━━━━━\u001b[0m \u001b[32m1.6/1.6 MB\u001b[0m \u001b[31m53.9 MB/s\u001b[0m eta \u001b[36m0:00:00\u001b[0m\n",
            "\u001b[?25hRequirement already satisfied: ipykernel<=6.8.0 in /usr/local/lib/python3.10/dist-packages (from responsibleai) (5.5.6)\n",
            "Collecting markupsafe<=2.1.2 (from responsibleai)\n",
            "  Downloading MarkupSafe-2.1.2-cp310-cp310-manylinux_2_17_x86_64.manylinux2014_x86_64.whl (25 kB)\n",
            "Collecting raiutils>=0.4.0 (from responsibleai)\n",
            "  Downloading raiutils-0.4.1-py3-none-any.whl (17 kB)\n",
            "Collecting rai-core-flask==0.7.2 (from raiwidgets)\n",
            "  Downloading rai_core_flask-0.7.2-py3-none-any.whl (12 kB)\n",
            "Requirement already satisfied: itsdangerous<=2.1.2 in /usr/local/lib/python3.10/dist-packages (from raiwidgets) (2.1.2)\n",
            "Collecting fairlearn==0.7.0 (from raiwidgets)\n",
            "  Downloading fairlearn-0.7.0-py3-none-any.whl (177 kB)\n",
            "\u001b[2K     \u001b[90m━━━━━━━━━━━━━━━━━━━━━━━━━━━━━━━━━━━━━━━━\u001b[0m \u001b[32m177.5/177.5 kB\u001b[0m \u001b[31m13.3 MB/s\u001b[0m eta \u001b[36m0:00:00\u001b[0m\n",
            "\u001b[?25hRequirement already satisfied: Flask in /usr/local/lib/python3.10/dist-packages (from rai-core-flask==0.7.2->raiwidgets) (2.2.5)\n",
            "Collecting Flask-Cors (from rai-core-flask==0.7.2->raiwidgets)\n",
            "  Downloading Flask_Cors-4.0.0-py2.py3-none-any.whl (14 kB)\n",
            "Collecting flask-socketio (from rai-core-flask==0.7.2->raiwidgets)\n",
            "  Downloading Flask_SocketIO-5.3.6-py3-none-any.whl (18 kB)\n",
            "Requirement already satisfied: greenlet>=1.1.2 in /usr/local/lib/python3.10/dist-packages (from rai-core-flask==0.7.2->raiwidgets) (3.0.3)\n",
            "Collecting gevent>=21.12.0 (from rai-core-flask==0.7.2->raiwidgets)\n",
            "  Downloading gevent-23.9.1-cp310-cp310-manylinux_2_28_x86_64.whl (6.4 MB)\n",
            "\u001b[2K     \u001b[90m━━━━━━━━━━━━━━━━━━━━━━━━━━━━━━━━━━━━━━━━\u001b[0m \u001b[32m6.4/6.4 MB\u001b[0m \u001b[31m22.9 MB/s\u001b[0m eta \u001b[36m0:00:00\u001b[0m\n",
            "\u001b[?25hCollecting Werkzeug<=2.2.3 (from rai-core-flask==0.7.2->raiwidgets)\n",
            "  Downloading Werkzeug-2.2.3-py3-none-any.whl (233 kB)\n",
            "\u001b[2K     \u001b[90m━━━━━━━━━━━━━━━━━━━━━━━━━━━━━━━━━━━━━━━━\u001b[0m \u001b[32m233.6/233.6 kB\u001b[0m \u001b[31m6.5 MB/s\u001b[0m eta \u001b[36m0:00:00\u001b[0m\n",
            "\u001b[?25hRequirement already satisfied: ipython>=7.31.1 in /usr/local/lib/python3.10/dist-packages (from rai-core-flask==0.7.2->raiwidgets) (7.34.0)\n",
            "Requirement already satisfied: soupsieve>1.2 in /usr/local/lib/python3.10/dist-packages (from beautifulsoup4>=4.11.1->yfinance) (2.5)\n",
            "Requirement already satisfied: tqdm in /usr/local/lib/python3.10/dist-packages (from dice-ml<0.12,>=0.11->responsibleai) (4.66.1)\n",
            "Collecting sparse (from econml>=0.14.1->responsibleai)\n",
            "  Downloading sparse-0.15.1-py2.py3-none-any.whl (116 kB)\n",
            "\u001b[2K     \u001b[90m━━━━━━━━━━━━━━━━━━━━━━━━━━━━━━━━━━━━━━━━\u001b[0m \u001b[32m116.3/116.3 kB\u001b[0m \u001b[31m6.7 MB/s\u001b[0m eta \u001b[36m0:00:00\u001b[0m\n",
            "\u001b[?25hRequirement already satisfied: joblib>=0.13.0 in /usr/local/lib/python3.10/dist-packages (from econml>=0.14.1->responsibleai) (1.3.2)\n",
            "Collecting shap<0.42.0,>=0.38.1 (from econml>=0.14.1->responsibleai)\n",
            "  Downloading shap-0.41.0-cp310-cp310-manylinux_2_12_x86_64.manylinux2010_x86_64.whl (572 kB)\n",
            "\u001b[2K     \u001b[90m━━━━━━━━━━━━━━━━━━━━━━━━━━━━━━━━━━━━━━━━\u001b[0m \u001b[32m572.6/572.6 kB\u001b[0m \u001b[31m21.6 MB/s\u001b[0m eta \u001b[36m0:00:00\u001b[0m\n",
            "\u001b[?25hRequirement already satisfied: six>=1.9 in /usr/local/lib/python3.10/dist-packages (from html5lib>=1.1->yfinance) (1.16.0)\n",
            "Requirement already satisfied: webencodings in /usr/local/lib/python3.10/dist-packages (from html5lib>=1.1->yfinance) (0.5.1)\n",
            "Requirement already satisfied: packaging in /usr/local/lib/python3.10/dist-packages (from interpret-community>=0.30.0->responsibleai) (23.2)\n",
            "Collecting interpret-core<=0.5.0,>=0.1.20 (from interpret-community>=0.30.0->responsibleai)\n",
            "  Downloading interpret_core-0.5.0-py3-none-any.whl (15.8 MB)\n",
            "\u001b[2K     \u001b[90m━━━━━━━━━━━━━━━━━━━━━━━━━━━━━━━━━━━━━━━━\u001b[0m \u001b[32m15.8/15.8 MB\u001b[0m \u001b[31m18.6 MB/s\u001b[0m eta \u001b[36m0:00:00\u001b[0m\n",
            "\u001b[?25hRequirement already satisfied: ipython-genutils in /usr/local/lib/python3.10/dist-packages (from ipykernel<=6.8.0->responsibleai) (0.2.0)\n",
            "Requirement already satisfied: traitlets>=4.1.0 in /usr/local/lib/python3.10/dist-packages (from ipykernel<=6.8.0->responsibleai) (5.7.1)\n",
            "Requirement already satisfied: jupyter-client in /usr/local/lib/python3.10/dist-packages (from ipykernel<=6.8.0->responsibleai) (6.1.12)\n",
            "Requirement already satisfied: tornado>=4.2 in /usr/local/lib/python3.10/dist-packages (from ipykernel<=6.8.0->responsibleai) (6.3.2)\n",
            "Requirement already satisfied: decorator>=4.3.0 in /usr/local/lib/python3.10/dist-packages (from networkx<=2.5->responsibleai) (4.4.2)\n",
            "Requirement already satisfied: llvmlite<0.42,>=0.41.0dev0 in /usr/local/lib/python3.10/dist-packages (from numba<=0.58.1->responsibleai) (0.41.1)\n",
            "Requirement already satisfied: python-dateutil>=2.8.1 in /usr/local/lib/python3.10/dist-packages (from pandas>=1.3.0->yfinance) (2.8.2)\n",
            "Requirement already satisfied: charset-normalizer<4,>=2 in /usr/local/lib/python3.10/dist-packages (from requests>=2.31->yfinance) (3.3.2)\n",
            "Requirement already satisfied: idna<4,>=2.5 in /usr/local/lib/python3.10/dist-packages (from requests>=2.31->yfinance) (3.6)\n",
            "Requirement already satisfied: urllib3<3,>=1.21.1 in /usr/local/lib/python3.10/dist-packages (from requests>=2.31->yfinance) (2.0.7)\n",
            "Requirement already satisfied: certifi>=2017.4.17 in /usr/local/lib/python3.10/dist-packages (from requests>=2.31->yfinance) (2023.11.17)\n",
            "Requirement already satisfied: threadpoolctl>=2.0.0 in /usr/local/lib/python3.10/dist-packages (from scikit-learn!=1.1,>=0.22.1->responsibleai) (3.2.0)\n",
            "Requirement already satisfied: patsy>=0.5.2 in /usr/local/lib/python3.10/dist-packages (from statsmodels<0.14.0->responsibleai) (0.5.6)\n",
            "Requirement already satisfied: attrs>=22.2.0 in /usr/local/lib/python3.10/dist-packages (from jsonschema->responsibleai) (23.2.0)\n",
            "Requirement already satisfied: jsonschema-specifications>=2023.03.6 in /usr/local/lib/python3.10/dist-packages (from jsonschema->responsibleai) (2023.12.1)\n",
            "Requirement already satisfied: referencing>=0.28.4 in /usr/local/lib/python3.10/dist-packages (from jsonschema->responsibleai) (0.32.1)\n",
            "Requirement already satisfied: rpds-py>=0.7.1 in /usr/local/lib/python3.10/dist-packages (from jsonschema->responsibleai) (0.16.2)\n",
            "Collecting zope.event (from gevent>=21.12.0->rai-core-flask==0.7.2->raiwidgets)\n",
            "  Downloading zope.event-5.0-py3-none-any.whl (6.8 kB)\n",
            "Collecting zope.interface (from gevent>=21.12.0->rai-core-flask==0.7.2->raiwidgets)\n",
            "  Downloading zope.interface-6.1-cp310-cp310-manylinux_2_5_x86_64.manylinux1_x86_64.manylinux_2_17_x86_64.manylinux2014_x86_64.whl (247 kB)\n",
            "\u001b[2K     \u001b[90m━━━━━━━━━━━━━━━━━━━━━━━━━━━━━━━━━━━━━━━━\u001b[0m \u001b[32m247.1/247.1 kB\u001b[0m \u001b[31m3.4 MB/s\u001b[0m eta \u001b[36m0:00:00\u001b[0m\n",
            "\u001b[?25hRequirement already satisfied: setuptools>=18.5 in /usr/local/lib/python3.10/dist-packages (from ipython>=7.31.1->rai-core-flask==0.7.2->raiwidgets) (67.7.2)\n",
            "Collecting jedi>=0.16 (from ipython>=7.31.1->rai-core-flask==0.7.2->raiwidgets)\n",
            "  Downloading jedi-0.19.1-py2.py3-none-any.whl (1.6 MB)\n",
            "\u001b[2K     \u001b[90m━━━━━━━━━━━━━━━━━━━━━━━━━━━━━━━━━━━━━━━━\u001b[0m \u001b[32m1.6/1.6 MB\u001b[0m \u001b[31m29.4 MB/s\u001b[0m eta \u001b[36m0:00:00\u001b[0m\n",
            "\u001b[?25hRequirement already satisfied: pickleshare in /usr/local/lib/python3.10/dist-packages (from ipython>=7.31.1->rai-core-flask==0.7.2->raiwidgets) (0.7.5)\n",
            "Requirement already satisfied: prompt-toolkit!=3.0.0,!=3.0.1,<3.1.0,>=2.0.0 in /usr/local/lib/python3.10/dist-packages (from ipython>=7.31.1->rai-core-flask==0.7.2->raiwidgets) (3.0.43)\n",
            "Requirement already satisfied: pygments in /usr/local/lib/python3.10/dist-packages (from ipython>=7.31.1->rai-core-flask==0.7.2->raiwidgets) (2.16.1)\n",
            "Requirement already satisfied: backcall in /usr/local/lib/python3.10/dist-packages (from ipython>=7.31.1->rai-core-flask==0.7.2->raiwidgets) (0.2.0)\n",
            "Requirement already satisfied: matplotlib-inline in /usr/local/lib/python3.10/dist-packages (from ipython>=7.31.1->rai-core-flask==0.7.2->raiwidgets) (0.1.6)\n",
            "Requirement already satisfied: pexpect>4.3 in /usr/local/lib/python3.10/dist-packages (from ipython>=7.31.1->rai-core-flask==0.7.2->raiwidgets) (4.9.0)\n",
            "Collecting slicer==0.0.7 (from shap<0.42.0,>=0.38.1->econml>=0.14.1->responsibleai)\n",
            "  Downloading slicer-0.0.7-py3-none-any.whl (14 kB)\n",
            "Requirement already satisfied: cloudpickle in /usr/local/lib/python3.10/dist-packages (from shap<0.42.0,>=0.38.1->econml>=0.14.1->responsibleai) (2.2.1)\n",
            "Requirement already satisfied: Jinja2>=3.0 in /usr/local/lib/python3.10/dist-packages (from Flask->rai-core-flask==0.7.2->raiwidgets) (3.1.2)\n",
            "Requirement already satisfied: click>=8.0 in /usr/local/lib/python3.10/dist-packages (from Flask->rai-core-flask==0.7.2->raiwidgets) (8.1.7)\n",
            "Collecting python-socketio>=5.0.2 (from flask-socketio->rai-core-flask==0.7.2->raiwidgets)\n",
            "  Downloading python_socketio-5.11.0-py3-none-any.whl (75 kB)\n",
            "\u001b[2K     \u001b[90m━━━━━━━━━━━━━━━━━━━━━━━━━━━━━━━━━━━━━━━━\u001b[0m \u001b[32m75.4/75.4 kB\u001b[0m \u001b[31m6.9 MB/s\u001b[0m eta \u001b[36m0:00:00\u001b[0m\n",
            "\u001b[?25hRequirement already satisfied: jupyter-core>=4.6.0 in /usr/local/lib/python3.10/dist-packages (from jupyter-client->ipykernel<=6.8.0->responsibleai) (5.7.0)\n",
            "Requirement already satisfied: pyzmq>=13 in /usr/local/lib/python3.10/dist-packages (from jupyter-client->ipykernel<=6.8.0->responsibleai) (23.2.1)\n",
            "Requirement already satisfied: parso<0.9.0,>=0.8.3 in /usr/local/lib/python3.10/dist-packages (from jedi>=0.16->ipython>=7.31.1->rai-core-flask==0.7.2->raiwidgets) (0.8.3)\n",
            "Requirement already satisfied: platformdirs>=2.5 in /usr/local/lib/python3.10/dist-packages (from jupyter-core>=4.6.0->jupyter-client->ipykernel<=6.8.0->responsibleai) (4.1.0)\n",
            "Requirement already satisfied: ptyprocess>=0.5 in /usr/local/lib/python3.10/dist-packages (from pexpect>4.3->ipython>=7.31.1->rai-core-flask==0.7.2->raiwidgets) (0.7.0)\n",
            "Requirement already satisfied: wcwidth in /usr/local/lib/python3.10/dist-packages (from prompt-toolkit!=3.0.0,!=3.0.1,<3.1.0,>=2.0.0->ipython>=7.31.1->rai-core-flask==0.7.2->raiwidgets) (0.2.12)\n",
            "Requirement already satisfied: bidict>=0.21.0 in /usr/local/lib/python3.10/dist-packages (from python-socketio>=5.0.2->flask-socketio->rai-core-flask==0.7.2->raiwidgets) (0.22.1)\n",
            "Collecting python-engineio>=4.8.0 (from python-socketio>=5.0.2->flask-socketio->rai-core-flask==0.7.2->raiwidgets)\n",
            "  Downloading python_engineio-4.8.2-py3-none-any.whl (57 kB)\n",
            "\u001b[2K     \u001b[90m━━━━━━━━━━━━━━━━━━━━━━━━━━━━━━━━━━━━━━━━\u001b[0m \u001b[32m57.4/57.4 kB\u001b[0m \u001b[31m4.1 MB/s\u001b[0m eta \u001b[36m0:00:00\u001b[0m\n",
            "\u001b[?25hCollecting simple-websocket>=0.10.0 (from python-engineio>=4.8.0->python-socketio>=5.0.2->flask-socketio->rai-core-flask==0.7.2->raiwidgets)\n",
            "  Downloading simple_websocket-1.0.0-py3-none-any.whl (13 kB)\n",
            "Collecting wsproto (from simple-websocket>=0.10.0->python-engineio>=4.8.0->python-socketio>=5.0.2->flask-socketio->rai-core-flask==0.7.2->raiwidgets)\n",
            "  Downloading wsproto-1.2.0-py3-none-any.whl (24 kB)\n",
            "Collecting h11<1,>=0.9.0 (from wsproto->simple-websocket>=0.10.0->python-engineio>=4.8.0->python-socketio>=5.0.2->flask-socketio->rai-core-flask==0.7.2->raiwidgets)\n",
            "  Downloading h11-0.14.0-py3-none-any.whl (58 kB)\n",
            "\u001b[2K     \u001b[90m━━━━━━━━━━━━━━━━━━━━━━━━━━━━━━━━━━━━━━━━\u001b[0m \u001b[32m58.3/58.3 kB\u001b[0m \u001b[31m4.0 MB/s\u001b[0m eta \u001b[36m0:00:00\u001b[0m\n",
            "\u001b[?25hInstalling collected packages: zope.interface, zope.event, slicer, semver, networkx, markupsafe, jedi, h11, wsproto, Werkzeug, sparse, gevent, statsmodels, simple-websocket, shap, raiutils, ml-wrappers, interpret-core, fairlearn, python-engineio, interpret-community, Flask-Cors, erroranalysis, econml, dice-ml, responsibleai, python-socketio, flask-socketio, rai-core-flask, raiwidgets\n",
            "  Attempting uninstall: networkx\n",
            "    Found existing installation: networkx 3.2.1\n",
            "    Uninstalling networkx-3.2.1:\n",
            "      Successfully uninstalled networkx-3.2.1\n",
            "  Attempting uninstall: markupsafe\n",
            "    Found existing installation: MarkupSafe 2.1.3\n",
            "    Uninstalling MarkupSafe-2.1.3:\n",
            "      Successfully uninstalled MarkupSafe-2.1.3\n",
            "  Attempting uninstall: Werkzeug\n",
            "    Found existing installation: Werkzeug 3.0.1\n",
            "    Uninstalling Werkzeug-3.0.1:\n",
            "      Successfully uninstalled Werkzeug-3.0.1\n",
            "  Attempting uninstall: statsmodels\n",
            "    Found existing installation: statsmodels 0.14.1\n",
            "    Uninstalling statsmodels-0.14.1:\n",
            "      Successfully uninstalled statsmodels-0.14.1\n",
            "\u001b[31mERROR: pip's dependency resolver does not currently take into account all the packages that are installed. This behaviour is the source of the following dependency conflicts.\n",
            "lida 0.0.10 requires fastapi, which is not installed.\n",
            "lida 0.0.10 requires kaleido, which is not installed.\n",
            "lida 0.0.10 requires python-multipart, which is not installed.\n",
            "lida 0.0.10 requires uvicorn, which is not installed.\n",
            "plotnine 0.12.4 requires statsmodels>=0.14.0, but you have statsmodels 0.13.5 which is incompatible.\u001b[0m\u001b[31m\n",
            "\u001b[0mSuccessfully installed Flask-Cors-4.0.0 Werkzeug-2.2.3 dice-ml-0.11 econml-0.14.1 erroranalysis-0.5.3 fairlearn-0.7.0 flask-socketio-5.3.6 gevent-23.9.1 h11-0.14.0 interpret-community-0.31.0 interpret-core-0.5.0 jedi-0.19.1 markupsafe-2.1.2 ml-wrappers-0.5.4 networkx-2.5 python-engineio-4.8.2 python-socketio-5.11.0 rai-core-flask-0.7.2 raiutils-0.4.1 raiwidgets-0.33.0 responsibleai-0.33.0 semver-2.13.0 shap-0.41.0 simple-websocket-1.0.0 slicer-0.0.7 sparse-0.15.1 statsmodels-0.13.5 wsproto-1.2.0 zope.event-5.0 zope.interface-6.1\n"
          ]
        }
      ],
      "source": [
        "!pip install yfinance responsibleai raiwidgets"
      ]
    },
    {
      "cell_type": "code",
      "execution_count": null,
      "metadata": {
        "colab": {
          "base_uri": "https://localhost:8080/"
        },
        "id": "6aGi-1e3ZBCD",
        "outputId": "1fe413ed-bd01-48d2-c682-1b153698a2ae"
      },
      "outputs": [
        {
          "name": "stdout",
          "output_type": "stream",
          "text": [
            "\r[*********************100%%**********************]  1 of 1 completed\n",
            "[0]\tvalidation_0-rmse:68.19661\tvalidation_1-rmse:68.53163\n",
            "[100]\tvalidation_0-rmse:25.17636\tvalidation_1-rmse:25.26890\n",
            "[200]\tvalidation_0-rmse:9.36285\tvalidation_1-rmse:9.37293\n",
            "[300]\tvalidation_0-rmse:3.61218\tvalidation_1-rmse:3.63645\n",
            "[400]\tvalidation_0-rmse:1.63094\tvalidation_1-rmse:1.74793\n",
            "[500]\tvalidation_0-rmse:1.06070\tvalidation_1-rmse:1.28048\n",
            "[600]\tvalidation_0-rmse:0.91157\tvalidation_1-rmse:1.18729\n",
            "[700]\tvalidation_0-rmse:0.85309\tvalidation_1-rmse:1.16353\n",
            "[798]\tvalidation_0-rmse:0.81704\tvalidation_1-rmse:1.16024\n",
            "RMSE: 1.159706\n"
          ]
        }
      ],
      "source": [
        "import pandas as pd\n",
        "import numpy as np\n",
        "from xgboost import XGBRegressor\n",
        "from sklearn.metrics import mean_squared_error\n",
        "from sklearn.model_selection import train_test_split\n",
        "import yfinance as yf\n",
        "\n",
        "# Download historical data for ADVANC.BK stock\n",
        "data = yf.download('ADVANC.BK')\n",
        "\n",
        "# Create time series features\n",
        "data['day_of_week'] = data.index.dayofweek\n",
        "data['quarter'] = data.index.quarter\n",
        "data['year'] = data.index.year\n",
        "data['month'] = data.index.month\n",
        "data['day_of_year'] = data.index.dayofyear\n",
        "\n",
        "# Create lag features\n",
        "num_lags = 5\n",
        "for lag in range(1, num_lags + 1):\n",
        "    data[f'lag_{lag}'] = data['Close'].shift(lag)\n",
        "\n",
        "# Drop any rows with NaN values\n",
        "data = data.dropna()\n",
        "\n",
        "# Assume that 'Close' is the target variable and the rest are features\n",
        "X = data.drop('Close', axis=1)\n",
        "y = data['Close']\n",
        "\n",
        "# Split the data into training and testing sets\n",
        "X_train, X_test, y_train, y_test = train_test_split(X, y, test_size=0.2, random_state=42)\n",
        "\n",
        "# Initialize the model\n",
        "model = XGBRegressor(n_estimators=1000, early_stopping_rounds=50, learning_rate=0.01, objective='reg:squarederror')\n",
        "\n",
        "# Train the model\n",
        "model.fit(X_train, y_train, eval_set=[(X_train, y_train), (X_test, y_test)],verbose=100)\n",
        "\n",
        "# Make predictions\n",
        "y_pred = model.predict(X_test)\n",
        "\n",
        "# Evaluate the model\n",
        "rmse = np.sqrt(mean_squared_error(y_test, y_pred))\n",
        "print(\"RMSE: %f\" % (rmse))"
      ]
    },
    {
      "cell_type": "code",
      "execution_count": null,
      "metadata": {
        "colab": {
          "base_uri": "https://localhost:8080/"
        },
        "id": "WQPE3sqp8T5Z",
        "outputId": "07c1dff8-69b7-4a09-9e94-0f7211d44514"
      },
      "outputs": [
        {
          "data": {
            "text/plain": [
              "Index(['Open', 'High', 'Low', 'Close', 'Adj Close', 'Volume', 'day_of_week',\n",
              "       'quarter', 'year', 'month', 'day_of_year', 'lag_1', 'lag_2', 'lag_3',\n",
              "       'lag_4', 'lag_5'],\n",
              "      dtype='object')"
            ]
          },
          "execution_count": 6,
          "metadata": {},
          "output_type": "execute_result"
        }
      ],
      "source": [
        "target_feature = 'y_price'\n",
        "\n",
        "train_data = X_train.copy()\n",
        "test_data = X_test.copy()\n",
        "train_data[target_feature] = y_train\n",
        "test_data[target_feature] = y_test\n",
        "data.columns"
      ]
    },
    {
      "cell_type": "code",
      "execution_count": null,
      "metadata": {
        "colab": {
          "base_uri": "https://localhost:8080/"
        },
        "id": "CwsEcmbK7_jS",
        "outputId": "b18aeccf-b555-436b-d769-ea461fd7abb6"
      },
      "outputs": [
        {
          "name": "stderr",
          "output_type": "stream",
          "text": [
            "/usr/local/lib/python3.10/dist-packages/shap/utils/_clustering.py:35: NumbaDeprecationWarning: The 'nopython' keyword argument was not supplied to the 'numba.jit' decorator. The implicit default value for this argument is currently False, but it will be changed to True in Numba 0.59.0. See https://numba.readthedocs.io/en/stable/reference/deprecation.html#deprecation-of-object-mode-fall-back-behaviour-when-using-jit for details.\n",
            "  def _pt_shuffle_rec(i, indexes, index_mask, partition_tree, M, pos):\n",
            "/usr/local/lib/python3.10/dist-packages/shap/utils/_clustering.py:54: NumbaDeprecationWarning: The 'nopython' keyword argument was not supplied to the 'numba.jit' decorator. The implicit default value for this argument is currently False, but it will be changed to True in Numba 0.59.0. See https://numba.readthedocs.io/en/stable/reference/deprecation.html#deprecation-of-object-mode-fall-back-behaviour-when-using-jit for details.\n",
            "  def delta_minimization_order(all_masks, max_swap_size=100, num_passes=2):\n",
            "/usr/local/lib/python3.10/dist-packages/shap/utils/_clustering.py:63: NumbaDeprecationWarning: The 'nopython' keyword argument was not supplied to the 'numba.jit' decorator. The implicit default value for this argument is currently False, but it will be changed to True in Numba 0.59.0. See https://numba.readthedocs.io/en/stable/reference/deprecation.html#deprecation-of-object-mode-fall-back-behaviour-when-using-jit for details.\n",
            "  def _reverse_window(order, start, length):\n",
            "/usr/local/lib/python3.10/dist-packages/shap/utils/_clustering.py:69: NumbaDeprecationWarning: The 'nopython' keyword argument was not supplied to the 'numba.jit' decorator. The implicit default value for this argument is currently False, but it will be changed to True in Numba 0.59.0. See https://numba.readthedocs.io/en/stable/reference/deprecation.html#deprecation-of-object-mode-fall-back-behaviour-when-using-jit for details.\n",
            "  def _reverse_window_score_gain(masks, order, start, length):\n",
            "/usr/local/lib/python3.10/dist-packages/shap/utils/_clustering.py:77: NumbaDeprecationWarning: The 'nopython' keyword argument was not supplied to the 'numba.jit' decorator. The implicit default value for this argument is currently False, but it will be changed to True in Numba 0.59.0. See https://numba.readthedocs.io/en/stable/reference/deprecation.html#deprecation-of-object-mode-fall-back-behaviour-when-using-jit for details.\n",
            "  def _mask_delta_score(m1, m2):\n",
            "/usr/local/lib/python3.10/dist-packages/shap/links.py:5: NumbaDeprecationWarning: The 'nopython' keyword argument was not supplied to the 'numba.jit' decorator. The implicit default value for this argument is currently False, but it will be changed to True in Numba 0.59.0. See https://numba.readthedocs.io/en/stable/reference/deprecation.html#deprecation-of-object-mode-fall-back-behaviour-when-using-jit for details.\n",
            "  def identity(x):\n",
            "/usr/local/lib/python3.10/dist-packages/shap/links.py:10: NumbaDeprecationWarning: The 'nopython' keyword argument was not supplied to the 'numba.jit' decorator. The implicit default value for this argument is currently False, but it will be changed to True in Numba 0.59.0. See https://numba.readthedocs.io/en/stable/reference/deprecation.html#deprecation-of-object-mode-fall-back-behaviour-when-using-jit for details.\n",
            "  def _identity_inverse(x):\n",
            "/usr/local/lib/python3.10/dist-packages/shap/links.py:15: NumbaDeprecationWarning: The 'nopython' keyword argument was not supplied to the 'numba.jit' decorator. The implicit default value for this argument is currently False, but it will be changed to True in Numba 0.59.0. See https://numba.readthedocs.io/en/stable/reference/deprecation.html#deprecation-of-object-mode-fall-back-behaviour-when-using-jit for details.\n",
            "  def logit(x):\n",
            "/usr/local/lib/python3.10/dist-packages/shap/links.py:20: NumbaDeprecationWarning: The 'nopython' keyword argument was not supplied to the 'numba.jit' decorator. The implicit default value for this argument is currently False, but it will be changed to True in Numba 0.59.0. See https://numba.readthedocs.io/en/stable/reference/deprecation.html#deprecation-of-object-mode-fall-back-behaviour-when-using-jit for details.\n",
            "  def _logit_inverse(x):\n",
            "/usr/local/lib/python3.10/dist-packages/shap/utils/_masked_model.py:363: NumbaDeprecationWarning: The 'nopython' keyword argument was not supplied to the 'numba.jit' decorator. The implicit default value for this argument is currently False, but it will be changed to True in Numba 0.59.0. See https://numba.readthedocs.io/en/stable/reference/deprecation.html#deprecation-of-object-mode-fall-back-behaviour-when-using-jit for details.\n",
            "  def _build_fixed_single_output(averaged_outs, last_outs, outputs, batch_positions, varying_rows, num_varying_rows, link, linearizing_weights):\n",
            "/usr/local/lib/python3.10/dist-packages/shap/utils/_masked_model.py:385: NumbaDeprecationWarning: The 'nopython' keyword argument was not supplied to the 'numba.jit' decorator. The implicit default value for this argument is currently False, but it will be changed to True in Numba 0.59.0. See https://numba.readthedocs.io/en/stable/reference/deprecation.html#deprecation-of-object-mode-fall-back-behaviour-when-using-jit for details.\n",
            "  def _build_fixed_multi_output(averaged_outs, last_outs, outputs, batch_positions, varying_rows, num_varying_rows, link, linearizing_weights):\n",
            "/usr/local/lib/python3.10/dist-packages/shap/utils/_masked_model.py:428: NumbaDeprecationWarning: The 'nopython' keyword argument was not supplied to the 'numba.jit' decorator. The implicit default value for this argument is currently False, but it will be changed to True in Numba 0.59.0. See https://numba.readthedocs.io/en/stable/reference/deprecation.html#deprecation-of-object-mode-fall-back-behaviour-when-using-jit for details.\n",
            "  def _init_masks(cluster_matrix, M, indices_row_pos, indptr):\n",
            "/usr/local/lib/python3.10/dist-packages/shap/utils/_masked_model.py:439: NumbaDeprecationWarning: The 'nopython' keyword argument was not supplied to the 'numba.jit' decorator. The implicit default value for this argument is currently False, but it will be changed to True in Numba 0.59.0. See https://numba.readthedocs.io/en/stable/reference/deprecation.html#deprecation-of-object-mode-fall-back-behaviour-when-using-jit for details.\n",
            "  def _rec_fill_masks(cluster_matrix, indices_row_pos, indptr, indices, M, ind):\n",
            "/usr/local/lib/python3.10/dist-packages/shap/maskers/_tabular.py:186: NumbaDeprecationWarning: The 'nopython' keyword argument was not supplied to the 'numba.jit' decorator. The implicit default value for this argument is currently False, but it will be changed to True in Numba 0.59.0. See https://numba.readthedocs.io/en/stable/reference/deprecation.html#deprecation-of-object-mode-fall-back-behaviour-when-using-jit for details.\n",
            "  def _single_delta_mask(dind, masked_inputs, last_mask, data, x, noop_code):\n",
            "/usr/local/lib/python3.10/dist-packages/shap/maskers/_tabular.py:197: NumbaDeprecationWarning: The 'nopython' keyword argument was not supplied to the 'numba.jit' decorator. The implicit default value for this argument is currently False, but it will be changed to True in Numba 0.59.0. See https://numba.readthedocs.io/en/stable/reference/deprecation.html#deprecation-of-object-mode-fall-back-behaviour-when-using-jit for details.\n",
            "  def _delta_masking(masks, x, curr_delta_inds, varying_rows_out,\n",
            "/usr/local/lib/python3.10/dist-packages/shap/maskers/_image.py:175: NumbaDeprecationWarning: The 'nopython' keyword argument was not supplied to the 'numba.jit' decorator. The implicit default value for this argument is currently False, but it will be changed to True in Numba 0.59.0. See https://numba.readthedocs.io/en/stable/reference/deprecation.html#deprecation-of-object-mode-fall-back-behaviour-when-using-jit for details.\n",
            "  def _jit_build_partition_tree(xmin, xmax, ymin, ymax, zmin, zmax, total_ywidth, total_zwidth, M, clustering, q):\n",
            "/usr/local/lib/python3.10/dist-packages/shap/explainers/_partition.py:676: NumbaDeprecationWarning: The 'nopython' keyword argument was not supplied to the 'numba.jit' decorator. The implicit default value for this argument is currently False, but it will be changed to True in Numba 0.59.0. See https://numba.readthedocs.io/en/stable/reference/deprecation.html#deprecation-of-object-mode-fall-back-behaviour-when-using-jit for details.\n",
            "  def lower_credit(i, value, M, values, clustering):\n",
            "The 'nopython' keyword argument was not supplied to the 'numba.jit' decorator. The implicit default value for this argument is currently False, but it will be changed to True in Numba 0.59.0. See https://numba.readthedocs.io/en/stable/reference/deprecation.html#deprecation-of-object-mode-fall-back-behaviour-when-using-jit for details.\n",
            "The 'nopython' keyword argument was not supplied to the 'numba.jit' decorator. The implicit default value for this argument is currently False, but it will be changed to True in Numba 0.59.0. See https://numba.readthedocs.io/en/stable/reference/deprecation.html#deprecation-of-object-mode-fall-back-behaviour-when-using-jit for details.\n"
          ]
        }
      ],
      "source": [
        "from raiwidgets import ResponsibleAIDashboard\n",
        "from responsibleai import RAIInsights\n",
        "from responsibleai.feature_metadata import FeatureMetadata\n",
        "feature_metadata = FeatureMetadata(categorical_features=[], dropped_features=[])\n",
        "\n",
        "\n",
        "test_data_sample = test_data.sample(n=100, random_state=5)\n",
        "train_data_sample = train_data.sample(n=1000, random_state=5)\n",
        "\n",
        "rai_insights = RAIInsights(model, train_data_sample, test_data_sample, target_feature, 'regression', feature_metadata=feature_metadata)"
      ]
    },
    {
      "cell_type": "code",
      "execution_count": null,
      "metadata": {
        "id": "nlFb-JnG8x_A"
      },
      "outputs": [],
      "source": [
        "# Interpretability\n",
        "rai_insights.explainer.add()\n",
        "# Error Analysis\n",
        "rai_insights.error_analysis.add()\n",
        "\n",
        "# Counterfactuals: accepts total number of counterfactuals to generate, the range that their label should fall under,\n",
        "# and a list of strings of categorical feature names\n",
        "rai_insights.counterfactual.add(total_CFs=20, desired_range=[50, 120])"
      ]
    },
    {
      "cell_type": "code",
      "execution_count": null,
      "metadata": {
        "colab": {
          "base_uri": "https://localhost:8080/"
        },
        "id": "DsPCsGc38yh6",
        "outputId": "532b4b91-e333-4bd6-fc42-23bb9e7f83c8"
      },
      "outputs": [
        {
          "name": "stdout",
          "output_type": "stream",
          "text": [
            "================================================================================\n",
            "Causal Effects\n",
            "Current Status: Generating Causal Effects.\n",
            "Current Status: Finished generating causal effects.\n",
            "Time taken: 0.0 min 9.630900001411646e-05 sec\n",
            "================================================================================\n",
            "================================================================================\n",
            "Counterfactual\n",
            "Current Status: Generating 20 counterfactuals for 100 samples\n"
          ]
        },
        {
          "name": "stderr",
          "output_type": "stream",
          "text": [
            "100%|██████████| 100/100 [00:56<00:00,  1.78it/s]\n"
          ]
        },
        {
          "name": "stdout",
          "output_type": "stream",
          "text": [
            "Current Status: Generated 20 counterfactuals for 100 samples.\n",
            "Time taken: 0.0 min 57.88103938199998 sec\n",
            "================================================================================\n",
            "================================================================================\n",
            "Error Analysis\n",
            "Current Status: Generating error analysis reports.\n",
            "Current Status: Finished generating error analysis reports.\n",
            "Time taken: 0.0 min 0.10517205600001489 sec\n",
            "================================================================================\n",
            "================================================================================\n",
            "Explanations\n",
            "Current Status: Explaining 15 features\n",
            "[LightGBM] [Info] Auto-choosing col-wise multi-threading, the overhead of testing was 0.000255 seconds.\n",
            "You can set `force_col_wise=true` to remove the overhead.\n",
            "[LightGBM] [Info] Total Bins 2823\n",
            "[LightGBM] [Info] Number of data points in the train set: 1000, number of used features: 15\n",
            "[LightGBM] [Info] Start training from score 136.996102\n",
            "Current Status: Explained 15 features.\n",
            "Time taken: 0.0 min 1.3602107400000136 sec\n",
            "================================================================================\n"
          ]
        }
      ],
      "source": [
        "rai_insights.compute()"
      ]
    },
    {
      "cell_type": "code",
      "execution_count": null,
      "metadata": {
        "colab": {
          "base_uri": "https://localhost:8080/"
        },
        "id": "fjvoNYlf_IQI",
        "outputId": "cfc9c764-1ee2-4405-fd1a-6246b0389145"
      },
      "outputs": [
        {
          "name": "stderr",
          "output_type": "stream",
          "text": [
            "WARNING:d6f06d0a34454331b53cc264b5c6b052:WebSocket transport not available. Install gevent-websocket for improved performance.\n"
          ]
        },
        {
          "name": "stdout",
          "output_type": "stream",
          "text": [
            "ResponsibleAI started at http://localhost:8704\n"
          ]
        },
        {
          "data": {
            "text/plain": [
              "<raiwidgets.responsibleai_dashboard.ResponsibleAIDashboard at 0x7e894f205600>"
            ]
          },
          "execution_count": 10,
          "metadata": {},
          "output_type": "execute_result"
        }
      ],
      "source": [
        "ResponsibleAIDashboard(rai_insights)"
      ]
    },
    {
      "cell_type": "code",
      "execution_count": null,
      "metadata": {
        "colab": {
          "base_uri": "https://localhost:8080/"
        },
        "id": "dpmmu_P47oZU",
        "outputId": "04c9c117-1e0f-4f90-cf24-f7809669a28a"
      },
      "outputs": [
        {
          "name": "stdout",
          "output_type": "stream",
          "text": [
            "34.32.147.68\n"
          ]
        }
      ],
      "source": [
        "!wget -q -O - ipv4.icanhazip.com"
      ]
    },
    {
      "cell_type": "code",
      "execution_count": 14,
      "metadata": {
        "colab": {
          "base_uri": "https://localhost:8080/"
        },
        "id": "cAt5vy-B7sNH",
        "outputId": "d7c70f95-fac8-44fa-bd32-251faf840d4d"
      },
      "outputs": [
        {
          "output_type": "stream",
          "name": "stdout",
          "text": [
            "\u001b[K\u001b[?25hnpx: installed 22 in 6.841s\n",
            "your url is: https://ten-numbers-leave.loca.lt\n",
            "^C\n"
          ]
        }
      ],
      "source": [
        "!npx localtunnel --port 8704"
      ]
    },
    {
      "cell_type": "code",
      "source": [],
      "metadata": {
        "id": "Hok0dxSr0Ddy"
      },
      "execution_count": null,
      "outputs": []
    }
  ],
  "metadata": {
    "colab": {
      "provenance": [],
      "authorship_tag": "ABX9TyN7A8tp59Vv3trFaMo5fbDA",
      "include_colab_link": true
    },
    "kernelspec": {
      "display_name": "Python 3",
      "name": "python3"
    },
    "language_info": {
      "name": "python"
    }
  },
  "nbformat": 4,
  "nbformat_minor": 0
}